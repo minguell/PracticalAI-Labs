{
 "cells": [
  {
   "cell_type": "markdown",
   "metadata": {
    "id": "fM1tzPvICydP"
   },
   "source": [
    "**Pressione SHIFT+ENTER para executar a célula**"
   ]
  },
  {
   "cell_type": "markdown",
   "metadata": {
    "id": "EtGzW6k4-epp"
   },
   "source": [
    "# Alegrete\n",
    "\n",
    "Este notebook fornece algumas visualizações para o trabalho de regressão linear. Para conseguir usar, implemente as funções no seu `alegrete.py` e tenha as bibliotecas `numpy` e `matplotlib` instaladas.\n",
    "\n",
    "O notebook usa um conjunto de dados sintetico. Adapte-o para carregar e usar os dados do `alegrete.csv`."
   ]
  },
  {
   "cell_type": "markdown",
   "metadata": {
    "id": "4YJqTGeQC59A"
   },
   "source": [
    "### Imports das bibliotecas de plot e da solução implementada"
   ]
  },
  {
   "cell_type": "code",
   "execution_count": 2,
   "metadata": {
    "id": "k77xaJfA-epq"
   },
   "outputs": [],
   "source": [
    "%matplotlib inline\n",
    "from IPython.display import HTML\n",
    "import numpy as np\n",
    "import matplotlib.pyplot as plt\n",
    "import matplotlib.animation as animation\n",
    "import csv\n",
    "\n",
    "import alegrete"
   ]
  },
  {
   "cell_type": "markdown",
   "metadata": {
    "id": "0q-q8220C59B"
   },
   "source": [
    "### Visualização dos Dados"
   ]
  },
  {
   "cell_type": "code",
   "execution_count": 5,
   "metadata": {
    "id": "E9HoBdK3-epu"
   },
   "outputs": [
    {
     "data": {
      "image/png": "[encoded data removed]",
      "text/plain": [
       "<Figure size 600x200 with 1 Axes>"
      ]
     },
     "metadata": {},
     "output_type": "display_data"
    }
   ],
   "source": [
    "#Entrada do dataset alegrete.csv\n",
    "with open('alegrete.csv', 'r') as csv_file:\n",
    "    csv_reader = csv.reader(csv_file, delimiter=',')\n",
    "    dataset = np.array(list(csv_reader), dtype=float)\n",
    "\n",
    "#Normalização dos dados de entrada\n",
    "min_x = min(dataset[:,0])\n",
    "max_x = max(dataset[:,0])\n",
    "for i in range(len(dataset[:,0])):\n",
    "    dataset[i,0] = (dataset[i,0] - min_x) / (max_x - min_x)\n",
    "\n",
    "#Gráfico dos dados normalizados\n",
    "plt.figure(figsize=(6, 2))\n",
    "plt.scatter(dataset[:,0], dataset[:,1])\n",
    "plt.xlabel('Entrada')\n",
    "plt.ylabel('Preço da Fazenda')\n",
    "plt.title('Dados Fictícios')\n",
    "plt.show()"
   ]
  },
  {
   "cell_type": "markdown",
   "metadata": {
    "id": "wnmqepye-ep_"
   },
   "source": [
    "### Execução da Regressão Linear e Cálculo do EQM por Época/Iteração\n",
    "\n",
    "Considere o parâmetro `b` o coeficiente linear ($ \\theta_0 $, visto em aula) e `w` o coeficiente angular ($ \\theta_1 $, visto em aula)."
   ]
  },
  {
   "cell_type": "code",
   "execution_count": null,
   "metadata": {
    "id": "x1VREIE7-eqA"
   },
   "outputs": [],
   "source": [
    "b_history, w_history = alegrete.fit(\n",
    "    dataset, b=0, w=0,\n",
    "    alpha=0.1, num_iterations=100\n",
    ")\n",
    "\n",
    "# valores finais de theta0 e theta1\n",
    "final_b, final_w = b_history[-1], w_history[-1]\n",
    "\n",
    "mse_list = [alegrete.compute_mse(b, w, dataset) for b, w in zip(b_history, w_history)]\n",
    "print(f\"EQM Final: {mse_list[-1]}\")\n",
    "\n",
    "plt.plot(mse_list)\n",
    "plt.xlabel('Época/Iteração')\n",
    "plt.ylabel('EQM')\n",
    "plt.show()"
   ]
  },
  {
   "cell_type": "markdown",
   "metadata": {
    "id": "5v-y-qI3-ep7"
   },
   "source": [
    "### Plot da Curva Final"
   ]
  },
  {
   "cell_type": "code",
   "execution_count": null,
   "metadata": {
    "id": "WV6KIdPq-ep7"
   },
   "outputs": [],
   "source": [
    "#Imprimir parâmetros otimizados\n",
    "print (f'Curva encontrada: {final_w}*x + {final_b}')\n",
    "\n",
    "#plota os dados\n",
    "plt.figure(figsize=(4, 2))\n",
    "plt.scatter(dataset[:,0], dataset[:,1])\n",
    "\n",
    "# plota a curva de ajuste\n",
    "pred = final_w*dataset[:,0] + final_b\n",
    "plt.plot(dataset[:,0], pred, c='r')\n",
    "plt.show()"
   ]
  },
  {
   "cell_type": "markdown",
   "metadata": {
    "id": "XeXdBWc-Cic-"
   },
   "source": [
    "### Progresso da Descida do Gradiente com o Número de Iterações\n",
    "\n",
    "Execute a célula e use os controles abaixo do gráfico para visualizar o progresso do seu ajuste.\n",
    "\n",
    "Pode aparecer um gráfico \"extra\" abaixo da animação, apenas ignore."
   ]
  },
  {
   "cell_type": "code",
   "execution_count": null,
   "metadata": {
    "id": "pHGbi8nY-eqI"
   },
   "outputs": [],
   "source": [
    "fig = plt.figure(figsize=(4, 2))\n",
    "ax = fig.add_subplot(111)\n",
    "\n",
    "# conjunto de dados\n",
    "ax.scatter(dataset[:,0], dataset[:,1])\n",
    "\n",
    "# linha com os valores iniciais dos parametros\n",
    "pred = w_history[0]*dataset[:,0] + b_history[0]\n",
    "line, = ax.plot(dataset[:,0], pred, '-',c='r')\n",
    "\n",
    "# funcao que atualiza a linha a cada passo\n",
    "def animate(i):\n",
    "    pred = w_history[i] * dataset[:,0] + b_history[i]\n",
    "    line.set_ydata(pred)\n",
    "    return line,\n",
    "\n",
    "# mude interval para trocar a velocidade da animacao\n",
    "ani = animation.FuncAnimation(fig, animate, frames=len(b_history), interval=20, save_count=50)\n",
    "HTML(ani.to_jshtml())"
   ]
  }
 ],
 "metadata": {
  "colab": {
   "provenance": []
  },
  "kernelspec": {
   "display_name": ".venv",
   "language": "python",
   "name": "python3"
  },
  "language_info": {
   "codemirror_mode": {
    "name": "ipython",
    "version": 3
   },
   "file_extension": ".py",
   "mimetype": "text/x-python",
   "name": "python",
   "nbconvert_exporter": "python",
   "pygments_lexer": "ipython3",
   "version": "3.12.3"
  }
 },
 "nbformat": 4,
 "nbformat_minor": 0
}
