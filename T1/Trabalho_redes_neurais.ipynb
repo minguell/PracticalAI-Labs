{
 "cells": [
  {
   "cell_type": "markdown",
   "metadata": {
    "id": "8g5GN3EpDn4b"
   },
   "source": [
    "\n",
    "Imports e definição do dataset."
   ]
  },
  {
   "cell_type": "code",
   "execution_count": null,
   "metadata": {
    "id": "gpxhsZya71hk"
   },
   "outputs": [],
   "source": [
    "import tensorflow as tf\n",
    "from tensorflow import keras\n",
    "import matplotlib.pyplot as plt"
   ]
  },
  {
   "cell_type": "markdown",
   "metadata": {
    "id": "qQhkJUZODtd1"
   },
   "source": [
    "Carregamento do dataset cifar-10"
   ]
  },
  {
   "cell_type": "code",
   "execution_count": null,
   "metadata": {
    "id": "vQQvrT5v785X"
   },
   "outputs": [],
   "source": [
    "# Carregar o conjunto de dados CIFAR-10\n",
    "cifar10 = keras.datasets.cifar10\n",
    "#Carrega duas tuplas, representando os dados de treinamento e de teste.\n",
    "#Cada tupla tem as imagens e os respectivos rótulos\n",
    "(train_images, train_labels), (test_images, test_labels) = cifar10.load_data()\n",
    "num_classes = 10"
   ]
  },
  {
   "cell_type": "markdown",
   "metadata": {
    "id": "MwHzFJajDxZt"
   },
   "source": [
    "O código abaixo mostra as 10 primeiras imagens de treino e teste do cifar-10"
   ]
  },
  {
   "cell_type": "code",
   "execution_count": null,
   "metadata": {
    "colab": {
     "base_uri": "https://localhost:8080/",
     "height": 470
    },
    "id": "wJipJNqX9zsJ",
    "outputId": "91ceee79-6051-455e-9cfc-9b2c74390a33"
   },
   "outputs": [],
   "source": [
    "# Defina as classes do CIFAR-10\n",
    "class_names = ['Avião', 'Automóvel', 'Pássaro', 'Gato', 'Cervo',\n",
    "               'Cachorro', 'Sapo', 'Cavalo', 'Navio', 'Caminhão']\n",
    "\n",
    "# Crie um dicionário para mapear as classes para as imagens correspondentes\n",
    "class_to_image = {}\n",
    "for i in range(10):\n",
    "    index = (test_labels == i).nonzero()[0][0]  # Encontre o primeiro índice da classe\n",
    "    class_to_image[i] = test_images[index]\n",
    "\n",
    "# Mostre uma imagem de cada classe\n",
    "plt.figure(figsize=(10, 5))\n",
    "for i in range(10):\n",
    "    plt.subplot(2, 5, i + 1)\n",
    "    plt.xticks([])  # Remova os rótulos do eixo x\n",
    "    plt.yticks([])  # Remova os rótulos do eixo y\n",
    "    plt.imshow(class_to_image[i])\n",
    "    plt.xlabel(class_names[i])\n",
    "\n",
    "plt.tight_layout()\n",
    "plt.show()"
   ]
  },
  {
   "cell_type": "markdown",
   "metadata": {
    "id": "hZxLXNIaD4lq"
   },
   "source": [
    "Abaixo, convertemos os rótulos escalares (números de 0 a 9) para one-hot encoding.\n",
    "\n",
    "Não é necessário realizar este passo, caso seja utilizada a função de custo esparse_categorical_cross_entropy"
   ]
  },
  {
   "cell_type": "code",
   "execution_count": 5,
   "metadata": {
    "id": "0h1CJgPJ9MTt"
   },
   "outputs": [],
   "source": [
    "# Converter para codificação one-hot dos labels\n",
    "train_labels = tf.keras.utils.to_categorical(train_labels, num_classes=num_classes)\n",
    "test_labels = tf.keras.utils.to_categorical(test_labels, num_classes=num_classes)\n",
    "#Não é necessário se utilizar como função de custo esparse_categorical_cross_entropy"
   ]
  },
  {
   "cell_type": "markdown",
   "metadata": {
    "id": "nymnOpRMETAu"
   },
   "source": [
    "Função que retorna uma rede neural para o cifar-10"
   ]
  },
  {
   "cell_type": "code",
   "execution_count": 6,
   "metadata": {
    "id": "nPrIRBmT8XiN"
   },
   "outputs": [],
   "source": [
    "# Crie o modelo de rede neural convolucional simples\n",
    "def get_cifar10_network():\n",
    "    model = keras.Sequential([\n",
    "        tf.keras.layers.Conv2D(32, (3, 3), activation='relu', input_shape=(32, 32, 3)),#(32, 32, 3) porque as imagens são 32X32 e RGB, portanto, tendo 3 canais de cor\n",
    "        tf.keras.layers.MaxPooling2D((2, 2)),\n",
    "        tf.keras.layers.Flatten(),\n",
    "        tf.keras.layers.Dense(64, activation='relu'),\n",
    "        tf.keras.layers.Dense(num_classes, activation='softmax')  # 10 classes de saída\n",
    "    ])\n",
    "\n",
    "    # Compile o modelo\n",
    "    model.compile(optimizer='adam',\n",
    "                  loss='categorical_crossentropy',#pode ser substituída pela esparse_categorical_cross_entropy\n",
    "                  metrics=['accuracy'])\n",
    "\n",
    "    model.summary()\n",
    "\n",
    "    return model"
   ]
  },
  {
   "cell_type": "markdown",
   "metadata": {
    "id": "wjmscwcQErIx"
   },
   "source": [
    "Trecho para treinar e avaliar a rede neural.\n",
    "O treino é realizado com os dados de treino e a avaliação do modelo é realizada nos dados de teste."
   ]
  },
  {
   "cell_type": "code",
   "execution_count": null,
   "metadata": {
    "colab": {
     "base_uri": "https://localhost:8080/"
    },
    "id": "3uN8v8_m8cvR",
    "outputId": "8fc65d80-77bf-4d3f-aa99-14cd9713ac0f"
   },
   "outputs": [],
   "source": [
    "# Treine o modelo\n",
    "model = get_cifar10_network()\n",
    "model.fit(train_images, train_labels, epochs=10)\n",
    "\n",
    "# Avalie o modelo no conjunto de teste\n",
    "test_loss, test_accuracy = model.evaluate(test_images, test_labels)\n",
    "print(f'Acurácia no conjunto de teste: {test_accuracy * 100:.2f}%')"
   ]
  },
  {
   "cell_type": "markdown",
   "metadata": {
    "id": "Vc5-m031HdY0"
   },
   "source": [
    "Na célula abaixo, adicione o código para carregar os demais datasets"
   ]
  },
  {
   "cell_type": "code",
   "execution_count": null,
   "metadata": {
    "id": "9l2VipoMHnmH"
   },
   "outputs": [],
   "source": [
    "#Inclua o código para carregar os demais datasets"
   ]
  },
  {
   "cell_type": "markdown",
   "metadata": {},
   "source": [
    "### CIFAR-100"
   ]
  },
  {
   "cell_type": "code",
   "execution_count": null,
   "metadata": {},
   "outputs": [],
   "source": [
    "# Carregar o conjunto de dados CIFAR-100\n",
    "cifar100 = keras.datasets.cifar100\n",
    "#Carrega duas tuplas, representando os dados de treinamento e de teste.\n",
    "#Cada tupla tem as imagens e os respectivos rótulos\n",
    "(train_images, train_labels), (test_images, test_labels) = cifar100.load_data()\n",
    "\n",
    "num_classes = 100"
   ]
  },
  {
   "cell_type": "markdown",
   "metadata": {},
   "source": [
    "Função abaixo não é necessária caso a função de perda sparse_categorical_crossentropy esteja sendo utilizada, pois lida com rótulos inteiros (0 a 99), os manipulando internamente para calcular a perda - mais eficiente em termos de processamento"
   ]
  },
  {
   "cell_type": "code",
   "execution_count": null,
   "metadata": {},
   "outputs": [],
   "source": [
    "# Carregar o conjunto de dados CIFAR-100\n",
    "cifar100 = keras.datasets.cifar100\n",
    "#Carrega duas tuplas, representando os dados de treinamento e de teste.\n",
    "#Cada tupla tem as imagens e os respectivos rótulos\n",
    "(train_images, train_labels), (test_images, test_labels) = cifar100.load_data()\n",
    "num_classes = 100"
   ]
  },
  {
   "cell_type": "code",
   "execution_count": null,
   "metadata": {},
   "outputs": [],
   "source": [
    "def get_cifar100_network():\n",
    "    model = keras.Sequential([\n",
    "        tf.keras.layers.Conv2D(32, (3, 3), activation='relu', input_shape=(32, 32, 3)),\n",
    "        tf.keras.layers.MaxPooling2D((2, 2)),\n",
    "        tf.keras.layers.Flatten(),\n",
    "        tf.keras.layers.Dense(64, activation='relu'),\n",
    "        tf.keras.layers.Dense(num_classes, activation='softmax') # 100 classes de saída\n",
    "    ])\n",
    "\n",
    "    #Compilar o modelo\n",
    "    model.compile(optimizer='adam',\n",
    "                  loss='sparse_categorical_crossentropy', #Ou categorical_crossentropy\n",
    "                  metrics=['accuracy'])\n",
    "    model.summary()\n",
    "\n",
    "    return model"
   ]
  },
  {
   "cell_type": "markdown",
   "metadata": {},
   "source": [
    "Trecho abaixo treina e avalia a rede neural, com seus respectivos dados adequados"
   ]
  },
  {
   "cell_type": "code",
   "execution_count": null,
   "metadata": {},
   "outputs": [],
   "source": [
    "#Treine o modelo\n",
    "model = get_cifar100_network()\n",
    "model.fit(train_images, train_labels, epochs=10)\n",
    "\n",
    "#Avalie o modelo no conjunto de teste\n",
    "test_loss, test_accuracy = model.evaluate(test_images, test_labels)\n",
    "printf(f'Acurácia no conjunto de teste: {test_accuracy * 100:.2f}%')"
   ]
  },
  {
   "cell_type": "markdown",
   "metadata": {},
   "source": [
    "### Fashion MSNIST"
   ]
  },
  {
   "cell_type": "code",
   "execution_count": 36,
   "metadata": {},
   "outputs": [],
   "source": [
    "# Carregar o conjunto de dados Fashion MNIST\n",
    "num_classes = 10\n",
    "fashion_mnist = keras.datasets.fashion_mnist\n",
    "(train_images, train_labels), (test_images, test_labels) = fashion_mnist.load_data()"
   ]
  },
  {
   "cell_type": "code",
   "execution_count": null,
   "metadata": {},
   "outputs": [],
   "source": [
    "# Defina as classes do Fashion MNIST\n",
    "class_names = ['Camiseta', 'Calça', 'Suéter', 'Vestido', 'Casaco',\n",
    "               'Sandália', 'Camisa', 'Tênis', 'Bolsa', 'Bota']\n",
    "\n",
    "# Mostre uma imagem de cada classe\n",
    "class_to_image = {}\n",
    "for i in range(10):\n",
    "    index = (train_labels == i).nonzero()[0][0]\n",
    "    class_to_image[i] = train_images[index]\n",
    "\n",
    "plt.figure(figsize=(10, 5))\n",
    "for i in range(10):\n",
    "    plt.subplot(2, 5, i + 1)\n",
    "    plt.xticks([])\n",
    "    plt.yticks([])\n",
    "    plt.imshow(class_to_image[i])\n",
    "    plt.xlabel(class_names[i])\n",
    "\n",
    "plt.tight_layout()\n",
    "plt.show()"
   ]
  },
  {
   "cell_type": "code",
   "execution_count": 38,
   "metadata": {},
   "outputs": [],
   "source": [
    "# Converter para codificação one-hot dos labels\n",
    "train_labels = tf.keras.utils.to_categorical(train_labels, num_classes=num_classes)\n",
    "test_labels = tf.keras.utils.to_categorical(test_labels, num_classes=num_classes)"
   ]
  },
  {
   "cell_type": "code",
   "execution_count": 41,
   "metadata": {},
   "outputs": [],
   "source": [
    "# Crie o modelo de rede neural convolucional simples para Fashion MNIST\n",
    "def get_fashion_mnist_network():\n",
    "    model = tf.keras.Sequential([\n",
    "        tf.keras.layers.Conv2D(32, (3, 3), activation='relu', input_shape=(28, 28, 1)), # (28, 28, 1) porque as imagens são 28x28 pixels em tons de cinza, portanto, possuem apenas 1 canal de cor\n",
    "        tf.keras.layers.MaxPooling2D((2, 2)),\n",
    "        tf.keras.layers.Flatten(),\n",
    "        tf.keras.layers.Dense(64, activation='relu'),\n",
    "        tf.keras.layers.Dense(num_classes, activation='softmax')\n",
    "    ])\n",
    "\n",
    "    # Compile o modelo\n",
    "    model.compile(optimizer='adam',\n",
    "                  loss='categorical_crossentropy',\n",
    "                  metrics=['accuracy'])\n",
    "\n",
    "    model.summary()\n",
    "    return model"
   ]
  },
  {
   "cell_type": "code",
   "execution_count": null,
   "metadata": {},
   "outputs": [],
   "source": [
    "# Treine o modelo\n",
    "model = get_fashion_mnist_network()\n",
    "model.fit(train_images, train_labels, epochs=10)\n",
    "\n",
    "# Avalie o modelo no conjunto de teste\n",
    "test_loss, test_accuracy = model.evaluate(test_images, test_labels)\n",
    "print(f'Acurácia no conjunto de teste: {test_accuracy * 100:.2f}%')"
   ]
  },
  {
   "cell_type": "markdown",
   "metadata": {
    "id": "bKkBlEy1ExHj"
   },
   "source": [
    "Tarefa\n",
    "Escreva código para executar redes neurais nos seguintes datasets:\n",
    "\n",
    "MNIST (pode aproveitar o codigo existente)\n",
    "Fashion MNIST\n",
    "CIFAR-10\n",
    "CIFAR-100\n",
    "Cada execução deve ser por 10 épocas.\n",
    "\n",
    "Você deve preencher as funções a seguir para retornarem a rede neural com a melhor configuração que você conseguiu para cada dataset. O notebook deve ser entregue com a rede neural que obteve a melhor performance em cada conjunto de dados.\n",
    "\n",
    "IMPORTANTE: as funções não devem TREINAR nem AVALIAR as redes neurais, apenas instanciá-las e retorná-las.\n",
    "\n",
    "Ao final, preencha o dict results com o desempenho encontrado em cada execução."
   ]
  },
  {
   "cell_type": "code",
   "execution_count": null,
   "metadata": {
    "id": "gN14IpXnFfCQ"
   },
   "outputs": [],
   "source": [
    "def get_fashion_mnist_network():\n",
    "  pass  # substitua pelo seu codigo\n",
    "\n",
    "def get_mnist_network():\n",
    "  pass  # substitua pelo seu codigo\n",
    "\n",
    "def get_cifar100_network():\n",
    "  pass # substitua pelo seu codigo\n",
    "\n",
    "#Você pode aproveitar as ideias do exemplo acima\n",
    "def get_cifar10_network():\n",
    "  pass # substitua pelo seu codigo"
   ]
  },
  {
   "cell_type": "markdown",
   "metadata": {
    "id": "iERVafMPF2Tn"
   },
   "source": [
    "Preencha o dict abaixo substituindo os None com a acuracia final (acc) e o tempo de treinamento (time) encontrado no seu experimento pra cada dataset"
   ]
  },
  {
   "cell_type": "code",
   "execution_count": null,
   "metadata": {
    "id": "kEUK1xk6Fk48"
   },
   "outputs": [],
   "source": [
    "results = {\n",
    "    \"mnist\": {\"time\": None, \"acc\": None},\n",
    "    \"fashion_mnist\": {\"time\": None, \"acc\": None},\n",
    "    \"cifar10\": {\"time\": None, \"acc\": None},\n",
    "    \"cifar100\": {\"time\": None, \"acc\": None},\n",
    "}"
   ]
  }
 ],
 "metadata": {
  "colab": {
   "provenance": []
  },
  "kernelspec": {
   "display_name": "Python 3",
   "name": "python3"
  },
  "language_info": {
   "codemirror_mode": {
    "name": "ipython",
    "version": 3
   },
   "file_extension": ".py",
   "mimetype": "text/x-python",
   "name": "python",
   "nbconvert_exporter": "python",
   "pygments_lexer": "ipython3",
   "version": "3.10.12"
  }
 },
 "nbformat": 4,
 "nbformat_minor": 0
}
